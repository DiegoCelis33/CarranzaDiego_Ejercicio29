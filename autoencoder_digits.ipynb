{
 "cells": [
  {
   "cell_type": "code",
   "execution_count": 1,
   "metadata": {},
   "outputs": [],
   "source": [
    "import numpy as np\n",
    "import matplotlib.pyplot as plt\n",
    "import torch\n",
    "import torchvision\n",
    "import torchvision.datasets\n",
    "import torchvision.models\n",
    "import torchvision.transforms\n",
    "\n",
    "from sklearn.model_selection import train_test_split\n",
    "from sklearn.preprocessing import StandardScaler\n",
    "import sklearn.datasets"
   ]
  },
  {
   "cell_type": "code",
   "execution_count": 2,
   "metadata": {},
   "outputs": [
    {
     "name": "stdout",
     "output_type": "stream",
     "text": [
      "(1797, 8, 8) (1797,)\n"
     ]
    }
   ],
   "source": [
    "numeros = sklearn.datasets.load_digits()\n",
    "imagenes = numeros['images']  # Hay 1797 digitos representados en imagenes 8x8\n",
    "n_imagenes = len(imagenes)\n",
    "X = imagenes # para volver a tener los datos como imagen basta hacer data.reshape((n_imagenes, 8, 8))\n",
    "Y = numeros['target']\n",
    "print(np.shape(X), np.shape(Y))\n"
   ]
  },
  {
   "cell_type": "code",
   "execution_count": 3,
   "metadata": {},
   "outputs": [],
   "source": [
    "from sklearn.preprocessing import StandardScaler\n",
    "from sklearn.model_selection import train_test_split"
   ]
  },
  {
   "cell_type": "code",
   "execution_count": 4,
   "metadata": {},
   "outputs": [],
   "source": [
    "scaler = StandardScaler()\n",
    "x_train, x_test, y_train, y_test = train_test_split(X, Y, train_size=0.5)"
   ]
  },
  {
   "cell_type": "code",
   "execution_count": 5,
   "metadata": {},
   "outputs": [],
   "source": [
    "# define el autoencoder\n",
    "class Autoencoder(torch.nn.Module):\n",
    "    def __init__(self):\n",
    "        super(Autoencoder,self).__init__()\n",
    "        self.encoder = torch.nn.Sequential(\n",
    "            torch.nn.Conv2d(1, 10, kernel_size=2, stride=1),\n",
    "            torch.nn.ReLU(True),\n",
    "            torch.nn.Conv2d(10,5,kernel_size=2),\n",
    "            torch.nn.ReLU(True))\n",
    "        self.decoder = torch.nn.Sequential(             \n",
    "            torch.nn.ConvTranspose2d(5,10,kernel_size=2),\n",
    "            torch.nn.ReLU(True),\n",
    "            torch.nn.ConvTranspose2d(10,1,kernel_size=2, stride=1),\n",
    "            torch.nn.ReLU(True))\n",
    "    def forward(self,x):\n",
    "        x = self.encoder(x)\n",
    "        x = self.decoder(x)\n",
    "        return x"
   ]
  },
  {
   "cell_type": "code",
   "execution_count": 6,
   "metadata": {},
   "outputs": [],
   "source": [
    "num_epochs = 200\n",
    "model = Autoencoder()\n",
    "distance = torch.nn.MSELoss()\n",
    "optimizer = torch.optim.Adam(model.parameters(), lr=0.01, weight_decay=1E-3)"
   ]
  },
  {
   "cell_type": "code",
   "execution_count": 7,
   "metadata": {},
   "outputs": [
    {
     "name": "stdout",
     "output_type": "stream",
     "text": [
      "torch.Size([898, 1, 8, 8])\n",
      "torch.Size([898, 10, 7, 7])\n",
      "torch.Size([898, 10, 7, 7])\n",
      "torch.Size([898, 5, 6, 6])\n",
      "torch.Size([898, 10, 7, 7])\n",
      "torch.Size([898, 10, 7, 7])\n",
      "torch.Size([898, 1, 8, 8])\n",
      "torch.Size([898, 1, 8, 8])\n"
     ]
    }
   ],
   "source": [
    "x_new = torch.autograd.Variable(torch.Tensor(x_train).float())\n",
    "targets_new = torch.autograd.Variable(torch.Tensor(x_train).long())\n",
    "\n",
    "x_new = x_new.unsqueeze(1)\n",
    "\n",
    "#X_new = np.expand_dims(x_train, 1) # necesario para que las dimensiones sean [batch, channel, width]\n",
    "feature_maps = torch.autograd.Variable(torch.Tensor(x_new).float())\n",
    "print(feature_maps.size())\n",
    "\n",
    "\n",
    "\n",
    "n = torch.nn.Conv2d(1,10, 2, stride=1) # in-channels = 1, out-channels = 4, kernel=4\n",
    "feature_maps = n(feature_maps)\n",
    "print(feature_maps.size())\n",
    "\n",
    "n = torch.nn.ReLU(True)\n",
    "feature_maps = n(feature_maps)\n",
    "print(feature_maps.size())\n",
    "\n",
    "n = torch.nn.Conv2d(10, 5, 2)\n",
    "feature_maps = n(feature_maps)\n",
    "print(feature_maps.size())\n",
    "\n",
    "n = torch.nn.ConvTranspose2d(5, 10, 2)\n",
    "feature_maps = n(feature_maps)\n",
    "print(feature_maps.size())\n",
    "\n",
    "n = torch.nn.ReLU(True)\n",
    "feature_maps = n(feature_maps)\n",
    "print(feature_maps.size())\n",
    "\n",
    "n = torch.nn.ConvTranspose2d(10, 1, 2)\n",
    "feature_maps = n(feature_maps)\n",
    "print(feature_maps.size())\n",
    "\n",
    "n = torch.nn.ReLU(True)\n",
    "feature_maps = n(feature_maps)\n",
    "print(feature_maps.size())\n",
    "\n",
    "\n"
   ]
  },
  {
   "cell_type": "code",
   "execution_count": 8,
   "metadata": {},
   "outputs": [],
   "source": [
    "x_train = torch.autograd.Variable(torch.Tensor(x_train).float())\n",
    "targets = torch.autograd.Variable(torch.Tensor(x_train).long())\n",
    "\n",
    "x_train = x_train.unsqueeze(1)"
   ]
  },
  {
   "cell_type": "code",
   "execution_count": 9,
   "metadata": {},
   "outputs": [
    {
     "name": "stdout",
     "output_type": "stream",
     "text": [
      "epoch [1/200], loss:55.5371\n",
      "epoch [2/200], loss:47.3094\n",
      "epoch [3/200], loss:37.2316\n",
      "epoch [4/200], loss:26.8439\n",
      "epoch [5/200], loss:24.1269\n",
      "epoch [6/200], loss:27.2343\n",
      "epoch [7/200], loss:22.3439\n",
      "epoch [8/200], loss:17.5440\n",
      "epoch [9/200], loss:16.2556\n",
      "epoch [10/200], loss:16.5722\n",
      "epoch [11/200], loss:16.6266\n",
      "epoch [12/200], loss:15.8759\n",
      "epoch [13/200], loss:14.6021\n",
      "epoch [14/200], loss:13.5002\n",
      "epoch [15/200], loss:13.2865\n",
      "epoch [16/200], loss:13.9503\n",
      "epoch [17/200], loss:14.3721\n",
      "epoch [18/200], loss:13.8647\n",
      "epoch [19/200], loss:13.0408\n",
      "epoch [20/200], loss:12.6260\n",
      "epoch [21/200], loss:12.6677\n",
      "epoch [22/200], loss:12.7830\n",
      "epoch [23/200], loss:12.6462\n",
      "epoch [24/200], loss:12.2094\n",
      "epoch [25/200], loss:11.6712\n",
      "epoch [26/200], loss:11.3158\n",
      "epoch [27/200], loss:11.2705\n",
      "epoch [28/200], loss:11.3297\n",
      "epoch [29/200], loss:11.1860\n",
      "epoch [30/200], loss:10.8551\n",
      "epoch [31/200], loss:10.6277\n",
      "epoch [32/200], loss:10.5792\n",
      "epoch [33/200], loss:10.5126\n",
      "epoch [34/200], loss:10.3536\n",
      "epoch [35/200], loss:10.1530\n",
      "epoch [36/200], loss:9.9944\n",
      "epoch [37/200], loss:9.9120\n",
      "epoch [38/200], loss:9.8600\n",
      "epoch [39/200], loss:9.7720\n",
      "epoch [40/200], loss:9.6452\n",
      "epoch [41/200], loss:9.5326\n",
      "epoch [42/200], loss:9.4593\n",
      "epoch [43/200], loss:9.3936\n",
      "epoch [44/200], loss:9.2982\n",
      "epoch [45/200], loss:9.1793\n",
      "epoch [46/200], loss:9.0731\n",
      "epoch [47/200], loss:8.9913\n",
      "epoch [48/200], loss:8.9037\n",
      "epoch [49/200], loss:8.7903\n",
      "epoch [50/200], loss:8.6858\n",
      "epoch [51/200], loss:8.5976\n",
      "epoch [52/200], loss:8.4906\n",
      "epoch [53/200], loss:8.3736\n",
      "epoch [54/200], loss:8.2753\n",
      "epoch [55/200], loss:8.1895\n",
      "epoch [56/200], loss:8.1095\n",
      "epoch [57/200], loss:8.0662\n",
      "epoch [58/200], loss:8.0272\n",
      "epoch [59/200], loss:7.9961\n",
      "epoch [60/200], loss:7.9788\n",
      "epoch [61/200], loss:7.9463\n",
      "epoch [62/200], loss:7.9237\n",
      "epoch [63/200], loss:7.8909\n",
      "epoch [64/200], loss:7.8580\n",
      "epoch [65/200], loss:7.8348\n",
      "epoch [66/200], loss:7.8092\n",
      "epoch [67/200], loss:7.7902\n",
      "epoch [68/200], loss:7.7693\n",
      "epoch [69/200], loss:7.7435\n",
      "epoch [70/200], loss:7.7217\n",
      "epoch [71/200], loss:7.6989\n",
      "epoch [72/200], loss:7.6784\n",
      "epoch [73/200], loss:7.6616\n",
      "epoch [74/200], loss:7.6422\n",
      "epoch [75/200], loss:7.6254\n",
      "epoch [76/200], loss:7.6087\n",
      "epoch [77/200], loss:7.5917\n",
      "epoch [78/200], loss:7.5766\n",
      "epoch [79/200], loss:7.5603\n",
      "epoch [80/200], loss:7.5454\n",
      "epoch [81/200], loss:7.5325\n",
      "epoch [82/200], loss:7.5201\n",
      "epoch [83/200], loss:7.5091\n",
      "epoch [84/200], loss:7.4977\n",
      "epoch [85/200], loss:7.4859\n",
      "epoch [86/200], loss:7.4754\n",
      "epoch [87/200], loss:7.4654\n",
      "epoch [88/200], loss:7.4571\n",
      "epoch [89/200], loss:7.4497\n",
      "epoch [90/200], loss:7.4422\n",
      "epoch [91/200], loss:7.4354\n",
      "epoch [92/200], loss:7.4285\n",
      "epoch [93/200], loss:7.4216\n",
      "epoch [94/200], loss:7.4148\n",
      "epoch [95/200], loss:7.4079\n",
      "epoch [96/200], loss:7.4014\n",
      "epoch [97/200], loss:7.3953\n",
      "epoch [98/200], loss:7.3897\n",
      "epoch [99/200], loss:7.3845\n",
      "epoch [100/200], loss:7.3793\n",
      "epoch [101/200], loss:7.3744\n",
      "epoch [102/200], loss:7.3697\n",
      "epoch [103/200], loss:7.3653\n",
      "epoch [104/200], loss:7.3611\n",
      "epoch [105/200], loss:7.3568\n",
      "epoch [106/200], loss:7.3528\n",
      "epoch [107/200], loss:7.3488\n",
      "epoch [108/200], loss:7.3450\n",
      "epoch [109/200], loss:7.3413\n",
      "epoch [110/200], loss:7.3376\n",
      "epoch [111/200], loss:7.3342\n",
      "epoch [112/200], loss:7.3309\n",
      "epoch [113/200], loss:7.3277\n",
      "epoch [114/200], loss:7.3246\n",
      "epoch [115/200], loss:7.3215\n",
      "epoch [116/200], loss:7.3187\n",
      "epoch [117/200], loss:7.3159\n",
      "epoch [118/200], loss:7.3132\n",
      "epoch [119/200], loss:7.3106\n",
      "epoch [120/200], loss:7.3080\n",
      "epoch [121/200], loss:7.3056\n",
      "epoch [122/200], loss:7.3031\n",
      "epoch [123/200], loss:7.3008\n",
      "epoch [124/200], loss:7.2985\n",
      "epoch [125/200], loss:7.2963\n",
      "epoch [126/200], loss:7.2941\n",
      "epoch [127/200], loss:7.2920\n",
      "epoch [128/200], loss:7.2900\n",
      "epoch [129/200], loss:7.2880\n",
      "epoch [130/200], loss:7.2860\n",
      "epoch [131/200], loss:7.2841\n",
      "epoch [132/200], loss:7.2822\n",
      "epoch [133/200], loss:7.2804\n",
      "epoch [134/200], loss:7.2786\n",
      "epoch [135/200], loss:7.2769\n",
      "epoch [136/200], loss:7.2751\n",
      "epoch [137/200], loss:7.2734\n",
      "epoch [138/200], loss:7.2717\n",
      "epoch [139/200], loss:7.2701\n",
      "epoch [140/200], loss:7.2685\n",
      "epoch [141/200], loss:7.2669\n",
      "epoch [142/200], loss:7.2654\n",
      "epoch [143/200], loss:7.2638\n",
      "epoch [144/200], loss:7.2623\n",
      "epoch [145/200], loss:7.2609\n",
      "epoch [146/200], loss:7.2594\n",
      "epoch [147/200], loss:7.2580\n",
      "epoch [148/200], loss:7.2566\n",
      "epoch [149/200], loss:7.2552\n",
      "epoch [150/200], loss:7.2538\n",
      "epoch [151/200], loss:7.2525\n",
      "epoch [152/200], loss:7.2512\n",
      "epoch [153/200], loss:7.2498\n",
      "epoch [154/200], loss:7.2486\n",
      "epoch [155/200], loss:7.2473\n",
      "epoch [156/200], loss:7.2461\n",
      "epoch [157/200], loss:7.2448\n",
      "epoch [158/200], loss:7.2436\n",
      "epoch [159/200], loss:7.2424\n",
      "epoch [160/200], loss:7.2413\n",
      "epoch [161/200], loss:7.2401\n",
      "epoch [162/200], loss:7.2390\n",
      "epoch [163/200], loss:7.2379\n",
      "epoch [164/200], loss:7.2368\n",
      "epoch [165/200], loss:7.2357\n",
      "epoch [166/200], loss:7.2346\n",
      "epoch [167/200], loss:7.2336\n",
      "epoch [168/200], loss:7.2325\n",
      "epoch [169/200], loss:7.2315\n",
      "epoch [170/200], loss:7.2305\n",
      "epoch [171/200], loss:7.2295\n",
      "epoch [172/200], loss:7.2285\n",
      "epoch [173/200], loss:7.2275\n",
      "epoch [174/200], loss:7.2266\n",
      "epoch [175/200], loss:7.2256\n",
      "epoch [176/200], loss:7.2247\n",
      "epoch [177/200], loss:7.2238\n",
      "epoch [178/200], loss:7.2229\n",
      "epoch [179/200], loss:7.2220\n",
      "epoch [180/200], loss:7.2211\n",
      "epoch [181/200], loss:7.2202\n",
      "epoch [182/200], loss:7.2194\n",
      "epoch [183/200], loss:7.2185\n",
      "epoch [184/200], loss:7.2177\n",
      "epoch [185/200], loss:7.2169\n",
      "epoch [186/200], loss:7.2160\n",
      "epoch [187/200], loss:7.2152\n",
      "epoch [188/200], loss:7.2144\n",
      "epoch [189/200], loss:7.2137\n",
      "epoch [190/200], loss:7.2129\n",
      "epoch [191/200], loss:7.2121\n",
      "epoch [192/200], loss:7.2114\n",
      "epoch [193/200], loss:7.2106\n",
      "epoch [194/200], loss:7.2099\n",
      "epoch [195/200], loss:7.2091\n",
      "epoch [196/200], loss:7.2084\n",
      "epoch [197/200], loss:7.2077\n",
      "epoch [198/200], loss:7.2070\n",
      "epoch [199/200], loss:7.2063\n",
      "epoch [200/200], loss:7.2056\n"
     ]
    }
   ],
   "source": [
    "loss_values = np.zeros(num_epochs)\n",
    "\n",
    "for epoch in range(num_epochs):\n",
    "    output = model(x_train)\n",
    "    loss = distance(output, x_train)\n",
    "    optimizer.zero_grad()\n",
    "    loss.backward()\n",
    "    optimizer.step()\n",
    "    loss_values[epoch] = loss.item()\n",
    "    print('epoch [{}/{}], loss:{:.4f}'.format(epoch+1, num_epochs, loss.item()))"
   ]
  },
  {
   "cell_type": "code",
   "execution_count": 10,
   "metadata": {},
   "outputs": [
    {
     "data": {
      "text/plain": [
       "Text(0, 0.5, 'loss')"
      ]
     },
     "execution_count": 10,
     "metadata": {},
     "output_type": "execute_result"
    },
    {
     "data": {
      "image/png": "[encoded data removed]",
      "text/plain": [
       "<Figure size 360x360 with 1 Axes>"
      ]
     },
     "metadata": {
      "needs_background": "light"
     },
     "output_type": "display_data"
    }
   ],
   "source": [
    "plt.figure(figsize = (5,5))\n",
    "plt.plot(np.arange(num_epochs), loss_values)\n",
    "plt.xlabel('epoch')\n",
    "plt.ylabel('loss')"
   ]
  },
  {
   "cell_type": "code",
   "execution_count": 11,
   "metadata": {},
   "outputs": [],
   "source": [
    "x_transform = model(x_train)\n",
    "latent_space = model.encoder(x_train)"
   ]
  },
  {
   "cell_type": "code",
   "execution_count": 12,
   "metadata": {},
   "outputs": [
    {
     "data": {
      "image/png": "[encoded data removed]",
      "text/plain": [
       "<Figure size 720x360 with 15 Axes>"
      ]
     },
     "metadata": {
      "needs_background": "light"
     },
     "output_type": "display_data"
    }
   ],
   "source": [
    "plt.figure(figsize=(10, 5))\n",
    "\n",
    "offset = 16\n",
    "\n",
    "for i in range(5):\n",
    "    l1_plot = plt.subplot(3, 5, i + 1)\n",
    "    plt.imshow(x_train[i+offset][0].detach().numpy())\n",
    "    plt.title(str(y_train[i]))\n",
    "    \n",
    "    j=0 # las imagenes reconstruidas por el autoencoder\n",
    "    plt.subplot(3,5,(i+1)+5*(j+1))\n",
    "    plt.imshow(x_transform[i+offset][0].detach().numpy())\n",
    "    \n",
    "    j=1 # una de las capas de la representacion latente\n",
    "    plt.subplot(3,5,(i+1)+5*(j+1))\n",
    "    plt.imshow(latent_space[i+offset][2].detach().numpy())"
   ]
  },
  {
   "cell_type": "code",
   "execution_count": null,
   "metadata": {},
   "outputs": [],
   "source": []
  }
 ],
 "metadata": {
  "kernelspec": {
   "display_name": "Python 3",
   "language": "python",
   "name": "python3"
  },
  "language_info": {
   "codemirror_mode": {
    "name": "ipython",
    "version": 3
   },
   "file_extension": ".py",
   "mimetype": "text/x-python",
   "name": "python",
   "nbconvert_exporter": "python",
   "pygments_lexer": "ipython3",
   "version": "3.7.7"
  }
 },
 "nbformat": 4,
 "nbformat_minor": 4
}
