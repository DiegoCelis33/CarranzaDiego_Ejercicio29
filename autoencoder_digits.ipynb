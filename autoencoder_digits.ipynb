{
 "cells": [
  {
   "cell_type": "code",
   "execution_count": 1,
   "metadata": {},
   "outputs": [],
   "source": [
    "import numpy as np\n",
    "import matplotlib.pyplot as plt\n",
    "import torch\n",
    "import torchvision\n",
    "import torchvision.datasets\n",
    "import torchvision.models\n",
    "import torchvision.transforms\n",
    "\n",
    "from sklearn.model_selection import train_test_split\n",
    "from sklearn.preprocessing import StandardScaler\n",
    "import sklearn.datasets"
   ]
  },
  {
   "cell_type": "code",
   "execution_count": 2,
   "metadata": {},
   "outputs": [
    {
     "name": "stdout",
     "output_type": "stream",
     "text": [
      "(1797, 8, 8) (1797,)\n"
     ]
    }
   ],
   "source": [
    "numeros = sklearn.datasets.load_digits()\n",
    "imagenes = numeros['images']  # Hay 1797 digitos representados en imagenes 8x8\n",
    "n_imagenes = len(imagenes)\n",
    "X = imagenes # para volver a tener los datos como imagen basta hacer data.reshape((n_imagenes, 8, 8))\n",
    "Y = numeros['target']\n",
    "print(np.shape(X), np.shape(Y))\n"
   ]
  },
  {
   "cell_type": "code",
   "execution_count": 3,
   "metadata": {},
   "outputs": [],
   "source": [
    "from sklearn.preprocessing import StandardScaler\n",
    "from sklearn.model_selection import train_test_split"
   ]
  },
  {
   "cell_type": "code",
   "execution_count": 4,
   "metadata": {},
   "outputs": [],
   "source": [
    "scaler = StandardScaler()\n",
    "x_train, x_test, y_train, y_test = train_test_split(X, Y, train_size=0.5)"
   ]
  },
  {
   "cell_type": "code",
   "execution_count": 5,
   "metadata": {},
   "outputs": [],
   "source": [
    "# define el autoencoder\n",
    "class Autoencoder(torch.nn.Module):\n",
    "    def __init__(self):\n",
    "        super(Autoencoder,self).__init__()\n",
    "        self.encoder = torch.nn.Sequential(\n",
    "            torch.nn.Conv2d(1, 10, kernel_size=2, stride=1),\n",
    "            torch.nn.ReLU(True),\n",
    "            torch.nn.Conv2d(10,5,kernel_size=2),\n",
    "            torch.nn.ReLU(True))\n",
    "        self.decoder = torch.nn.Sequential(             \n",
    "            torch.nn.ConvTranspose2d(5,10,kernel_size=2),\n",
    "            torch.nn.ReLU(True),\n",
    "            torch.nn.ConvTranspose2d(10,1,kernel_size=2, stride=1),\n",
    "            torch.nn.ReLU(True))\n",
    "    def forward(self,x):\n",
    "        x = self.encoder(x)\n",
    "        x = self.decoder(x)\n",
    "        return x"
   ]
  },
  {
   "cell_type": "code",
   "execution_count": 6,
   "metadata": {},
   "outputs": [],
   "source": [
    "num_epochs = 200\n",
    "model = Autoencoder()\n",
    "distance = torch.nn.MSELoss()\n",
    "optimizer = torch.optim.Adam(model.parameters(), lr=0.01, weight_decay=1E-3)"
   ]
  },
  {
   "cell_type": "code",
   "execution_count": 7,
   "metadata": {},
   "outputs": [
    {
     "name": "stdout",
     "output_type": "stream",
     "text": [
      "torch.Size([898, 1, 8, 8])\n",
      "torch.Size([898, 10, 7, 7])\n",
      "torch.Size([898, 10, 7, 7])\n",
      "torch.Size([898, 5, 6, 6])\n",
      "torch.Size([898, 10, 7, 7])\n",
      "torch.Size([898, 10, 7, 7])\n",
      "torch.Size([898, 1, 8, 8])\n",
      "torch.Size([898, 1, 8, 8])\n"
     ]
    }
   ],
   "source": [
    "x_new = torch.autograd.Variable(torch.Tensor(x_train).float())\n",
    "targets_new = torch.autograd.Variable(torch.Tensor(x_train).long())\n",
    "\n",
    "x_new = x_new.unsqueeze(1)\n",
    "\n",
    "#X_new = np.expand_dims(x_train, 1) # necesario para que las dimensiones sean [batch, channel, width]\n",
    "feature_maps = torch.autograd.Variable(torch.Tensor(x_new).float())\n",
    "print(feature_maps.size())\n",
    "\n",
    "\n",
    "\n",
    "n = torch.nn.Conv2d(1,10, 2, stride=1) # in-channels = 1, out-channels = 4, kernel=4\n",
    "feature_maps = n(feature_maps)\n",
    "print(feature_maps.size())\n",
    "\n",
    "n = torch.nn.ReLU(True)\n",
    "feature_maps = n(feature_maps)\n",
    "print(feature_maps.size())\n",
    "\n",
    "n = torch.nn.Conv2d(10, 5, 2)\n",
    "feature_maps = n(feature_maps)\n",
    "print(feature_maps.size())\n",
    "\n",
    "n = torch.nn.ConvTranspose2d(5, 10, 2)\n",
    "feature_maps = n(feature_maps)\n",
    "print(feature_maps.size())\n",
    "\n",
    "n = torch.nn.ReLU(True)\n",
    "feature_maps = n(feature_maps)\n",
    "print(feature_maps.size())\n",
    "\n",
    "n = torch.nn.ConvTranspose2d(10, 1, 2)\n",
    "feature_maps = n(feature_maps)\n",
    "print(feature_maps.size())\n",
    "\n",
    "n = torch.nn.ReLU(True)\n",
    "feature_maps = n(feature_maps)\n",
    "print(feature_maps.size())\n",
    "\n",
    "\n"
   ]
  },
  {
   "cell_type": "code",
   "execution_count": 8,
   "metadata": {},
   "outputs": [],
   "source": [
    "x_train = torch.autograd.Variable(torch.Tensor(x_train).float())\n",
    "targets = torch.autograd.Variable(torch.Tensor(x_train).long())\n",
    "\n",
    "x_train = x_train.unsqueeze(1)"
   ]
  },
  {
   "cell_type": "code",
   "execution_count": 9,
   "metadata": {},
   "outputs": [
    {
     "name": "stdout",
     "output_type": "stream",
     "text": [
      "epoch [1/200], loss:59.8389\n",
      "epoch [2/200], loss:59.1352\n",
      "epoch [3/200], loss:57.4899\n",
      "epoch [4/200], loss:52.2704\n",
      "epoch [5/200], loss:44.1445\n",
      "epoch [6/200], loss:34.5035\n",
      "epoch [7/200], loss:25.6869\n",
      "epoch [8/200], loss:22.1579\n",
      "epoch [9/200], loss:26.7705\n",
      "epoch [10/200], loss:27.2217\n",
      "epoch [11/200], loss:22.8583\n",
      "epoch [12/200], loss:18.9587\n",
      "epoch [13/200], loss:17.5149\n",
      "epoch [14/200], loss:17.7015\n",
      "epoch [15/200], loss:18.0470\n",
      "epoch [16/200], loss:17.6903\n",
      "epoch [17/200], loss:16.5039\n",
      "epoch [18/200], loss:14.9222\n",
      "epoch [19/200], loss:13.7278\n",
      "epoch [20/200], loss:13.3916\n",
      "epoch [21/200], loss:13.3330\n",
      "epoch [22/200], loss:12.5647\n",
      "epoch [23/200], loss:11.1640\n",
      "epoch [24/200], loss:9.8901\n",
      "epoch [25/200], loss:9.0505\n",
      "epoch [26/200], loss:8.3766\n",
      "epoch [27/200], loss:7.6258\n",
      "epoch [28/200], loss:6.9727\n",
      "epoch [29/200], loss:6.7224\n",
      "epoch [30/200], loss:6.6890\n",
      "epoch [31/200], loss:6.4604\n",
      "epoch [32/200], loss:5.9775\n",
      "epoch [33/200], loss:5.4296\n",
      "epoch [34/200], loss:4.9150\n",
      "epoch [35/200], loss:4.4165\n",
      "epoch [36/200], loss:3.9074\n",
      "epoch [37/200], loss:3.4206\n",
      "epoch [38/200], loss:3.0306\n",
      "epoch [39/200], loss:2.7781\n",
      "epoch [40/200], loss:2.6445\n",
      "epoch [41/200], loss:2.6137\n",
      "epoch [42/200], loss:2.6477\n",
      "epoch [43/200], loss:2.6201\n",
      "epoch [44/200], loss:2.5113\n",
      "epoch [45/200], loss:2.4350\n",
      "epoch [46/200], loss:2.3500\n",
      "epoch [47/200], loss:2.1595\n",
      "epoch [48/200], loss:2.0286\n",
      "epoch [49/200], loss:1.9362\n",
      "epoch [50/200], loss:1.8837\n",
      "epoch [51/200], loss:1.8390\n",
      "epoch [52/200], loss:1.7377\n",
      "epoch [53/200], loss:1.6565\n",
      "epoch [54/200], loss:1.5738\n",
      "epoch [55/200], loss:1.5170\n",
      "epoch [56/200], loss:1.4627\n",
      "epoch [57/200], loss:1.4030\n",
      "epoch [58/200], loss:1.3620\n",
      "epoch [59/200], loss:1.3176\n",
      "epoch [60/200], loss:1.2822\n",
      "epoch [61/200], loss:1.2268\n",
      "epoch [62/200], loss:1.1812\n",
      "epoch [63/200], loss:1.1375\n",
      "epoch [64/200], loss:1.1102\n",
      "epoch [65/200], loss:1.0818\n",
      "epoch [66/200], loss:1.0532\n",
      "epoch [67/200], loss:1.0228\n",
      "epoch [68/200], loss:0.9971\n",
      "epoch [69/200], loss:0.9728\n",
      "epoch [70/200], loss:0.9450\n",
      "epoch [71/200], loss:0.9167\n",
      "epoch [72/200], loss:0.8929\n",
      "epoch [73/200], loss:0.8771\n",
      "epoch [74/200], loss:0.8635\n",
      "epoch [75/200], loss:0.8470\n",
      "epoch [76/200], loss:0.8284\n",
      "epoch [77/200], loss:0.8099\n",
      "epoch [78/200], loss:0.7941\n",
      "epoch [79/200], loss:0.7776\n",
      "epoch [80/200], loss:0.7633\n",
      "epoch [81/200], loss:0.7489\n",
      "epoch [82/200], loss:0.7367\n",
      "epoch [83/200], loss:0.7220\n",
      "epoch [84/200], loss:0.7081\n",
      "epoch [85/200], loss:0.6945\n",
      "epoch [86/200], loss:0.6836\n",
      "epoch [87/200], loss:0.6723\n",
      "epoch [88/200], loss:0.6615\n",
      "epoch [89/200], loss:0.6504\n",
      "epoch [90/200], loss:0.6405\n",
      "epoch [91/200], loss:0.6297\n",
      "epoch [92/200], loss:0.6188\n",
      "epoch [93/200], loss:0.6073\n",
      "epoch [94/200], loss:0.5967\n",
      "epoch [95/200], loss:0.5862\n",
      "epoch [96/200], loss:0.5762\n",
      "epoch [97/200], loss:0.5663\n",
      "epoch [98/200], loss:0.5569\n",
      "epoch [99/200], loss:0.5472\n",
      "epoch [100/200], loss:0.5373\n",
      "epoch [101/200], loss:0.5278\n",
      "epoch [102/200], loss:0.5188\n",
      "epoch [103/200], loss:0.5101\n",
      "epoch [104/200], loss:0.5013\n",
      "epoch [105/200], loss:0.4928\n",
      "epoch [106/200], loss:0.4846\n",
      "epoch [107/200], loss:0.4767\n",
      "epoch [108/200], loss:0.4690\n",
      "epoch [109/200], loss:0.4614\n",
      "epoch [110/200], loss:0.4539\n",
      "epoch [111/200], loss:0.4465\n",
      "epoch [112/200], loss:0.4391\n",
      "epoch [113/200], loss:0.4319\n",
      "epoch [114/200], loss:0.4251\n",
      "epoch [115/200], loss:0.4183\n",
      "epoch [116/200], loss:0.4117\n",
      "epoch [117/200], loss:0.4052\n",
      "epoch [118/200], loss:0.3990\n",
      "epoch [119/200], loss:0.3929\n",
      "epoch [120/200], loss:0.3869\n",
      "epoch [121/200], loss:0.3811\n",
      "epoch [122/200], loss:0.3755\n",
      "epoch [123/200], loss:0.3700\n",
      "epoch [124/200], loss:0.3647\n",
      "epoch [125/200], loss:0.3596\n",
      "epoch [126/200], loss:0.3546\n",
      "epoch [127/200], loss:0.3496\n",
      "epoch [128/200], loss:0.3448\n",
      "epoch [129/200], loss:0.3402\n",
      "epoch [130/200], loss:0.3356\n",
      "epoch [131/200], loss:0.3311\n",
      "epoch [132/200], loss:0.3268\n",
      "epoch [133/200], loss:0.3225\n",
      "epoch [134/200], loss:0.3184\n",
      "epoch [135/200], loss:0.3143\n",
      "epoch [136/200], loss:0.3103\n",
      "epoch [137/200], loss:0.3065\n",
      "epoch [138/200], loss:0.3027\n",
      "epoch [139/200], loss:0.2989\n",
      "epoch [140/200], loss:0.2953\n",
      "epoch [141/200], loss:0.2918\n",
      "epoch [142/200], loss:0.2884\n",
      "epoch [143/200], loss:0.2850\n",
      "epoch [144/200], loss:0.2817\n",
      "epoch [145/200], loss:0.2785\n",
      "epoch [146/200], loss:0.2754\n",
      "epoch [147/200], loss:0.2723\n",
      "epoch [148/200], loss:0.2693\n",
      "epoch [149/200], loss:0.2664\n",
      "epoch [150/200], loss:0.2635\n",
      "epoch [151/200], loss:0.2607\n",
      "epoch [152/200], loss:0.2579\n",
      "epoch [153/200], loss:0.2552\n",
      "epoch [154/200], loss:0.2526\n",
      "epoch [155/200], loss:0.2500\n",
      "epoch [156/200], loss:0.2475\n",
      "epoch [157/200], loss:0.2451\n",
      "epoch [158/200], loss:0.2427\n",
      "epoch [159/200], loss:0.2403\n",
      "epoch [160/200], loss:0.2380\n",
      "epoch [161/200], loss:0.2357\n",
      "epoch [162/200], loss:0.2335\n",
      "epoch [163/200], loss:0.2313\n",
      "epoch [164/200], loss:0.2291\n",
      "epoch [165/200], loss:0.2270\n",
      "epoch [166/200], loss:0.2250\n",
      "epoch [167/200], loss:0.2230\n",
      "epoch [168/200], loss:0.2210\n",
      "epoch [169/200], loss:0.2190\n",
      "epoch [170/200], loss:0.2171\n",
      "epoch [171/200], loss:0.2153\n",
      "epoch [172/200], loss:0.2134\n",
      "epoch [173/200], loss:0.2116\n",
      "epoch [174/200], loss:0.2098\n",
      "epoch [175/200], loss:0.2081\n",
      "epoch [176/200], loss:0.2064\n",
      "epoch [177/200], loss:0.2047\n",
      "epoch [178/200], loss:0.2031\n",
      "epoch [179/200], loss:0.2015\n",
      "epoch [180/200], loss:0.1999\n",
      "epoch [181/200], loss:0.1984\n",
      "epoch [182/200], loss:0.1968\n",
      "epoch [183/200], loss:0.1953\n",
      "epoch [184/200], loss:0.1939\n",
      "epoch [185/200], loss:0.1924\n",
      "epoch [186/200], loss:0.1910\n",
      "epoch [187/200], loss:0.1896\n",
      "epoch [188/200], loss:0.1882\n",
      "epoch [189/200], loss:0.1868\n",
      "epoch [190/200], loss:0.1855\n",
      "epoch [191/200], loss:0.1842\n",
      "epoch [192/200], loss:0.1829\n",
      "epoch [193/200], loss:0.1816\n",
      "epoch [194/200], loss:0.1803\n",
      "epoch [195/200], loss:0.1791\n",
      "epoch [196/200], loss:0.1779\n",
      "epoch [197/200], loss:0.1767\n",
      "epoch [198/200], loss:0.1755\n",
      "epoch [199/200], loss:0.1744\n",
      "epoch [200/200], loss:0.1732\n"
     ]
    }
   ],
   "source": [
    "loss_values = np.zeros(num_epochs)\n",
    "\n",
    "for epoch in range(num_epochs):\n",
    "    output = model(x_train)\n",
    "    loss = distance(output, x_train)\n",
    "    optimizer.zero_grad()\n",
    "    loss.backward()\n",
    "    optimizer.step()\n",
    "    loss_values[epoch] = loss.item()\n",
    "    print('epoch [{}/{}], loss:{:.4f}'.format(epoch+1, num_epochs, loss.item()))"
   ]
  },
  {
   "cell_type": "code",
   "execution_count": 10,
   "metadata": {},
   "outputs": [
    {
     "data": {
      "text/plain": [
       "Text(0, 0.5, 'loss')"
      ]
     },
     "execution_count": 10,
     "metadata": {},
     "output_type": "execute_result"
    },
    {
     "data": {
      "image/png": "[encoded data removed]",
      "text/plain": [
       "<Figure size 360x360 with 1 Axes>"
      ]
     },
     "metadata": {
      "needs_background": "light"
     },
     "output_type": "display_data"
    }
   ],
   "source": [
    "plt.figure(figsize = (5,5))\n",
    "plt.plot(np.arange(num_epochs), loss_values)\n",
    "plt.xlabel('epoch')\n",
    "plt.ylabel('loss')"
   ]
  },
  {
   "cell_type": "code",
   "execution_count": 11,
   "metadata": {},
   "outputs": [],
   "source": [
    "x_transform = model(x_train)\n",
    "latent_space = model.encoder(x_train)"
   ]
  },
  {
   "cell_type": "code",
   "execution_count": 12,
   "metadata": {},
   "outputs": [
    {
     "data": {
      "image/png": "[encoded data removed]",
      "text/plain": [
       "<Figure size 720x360 with 15 Axes>"
      ]
     },
     "metadata": {
      "needs_background": "light"
     },
     "output_type": "display_data"
    }
   ],
   "source": [
    "plt.figure(figsize=(10, 5))\n",
    "\n",
    "offset = 16\n",
    "\n",
    "for i in range(5):\n",
    "    l1_plot = plt.subplot(3, 5, i + 1)\n",
    "    plt.imshow(x_train[i+offset][0].detach().numpy())\n",
    "    plt.title(str(y_train[i]))\n",
    "    \n",
    "    j=0 # las imagenes reconstruidas por el autoencoder\n",
    "    plt.subplot(3,5,(i+1)+5*(j+1))\n",
    "    plt.imshow(x_transform[i+offset][0].detach().numpy())\n",
    "    \n",
    "    j=1 # una de las capas de la representacion latente\n",
    "    plt.subplot(3,5,(i+1)+5*(j+1))\n",
    "    plt.imshow(latent_space[i+offset][2].detach().numpy())"
   ]
  },
  {
   "cell_type": "code",
   "execution_count": null,
   "metadata": {},
   "outputs": [],
   "source": []
  }
 ],
 "metadata": {
  "kernelspec": {
   "display_name": "Python 3",
   "language": "python",
   "name": "python3"
  },
  "language_info": {
   "codemirror_mode": {
    "name": "ipython",
    "version": 3
   },
   "file_extension": ".py",
   "mimetype": "text/x-python",
   "name": "python",
   "nbconvert_exporter": "python",
   "pygments_lexer": "ipython3",
   "version": "3.7.7"
  }
 },
 "nbformat": 4,
 "nbformat_minor": 4
}
